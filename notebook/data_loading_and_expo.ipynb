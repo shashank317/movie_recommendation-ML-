{
 "cells": [
  {
   "cell_type": "code",
   "execution_count": 27,
   "id": "98779bc6",
   "metadata": {},
   "outputs": [],
   "source": [
    "import pandas as pd\n",
    "import numpy as np"
   ]
  },
  {
   "cell_type": "markdown",
   "id": "c810d6f5",
   "metadata": {},
   "source": [
    "#loading and rating data"
   ]
  },
  {
   "cell_type": "code",
   "execution_count": 28,
   "id": "4e12b0c4",
   "metadata": {},
   "outputs": [],
   "source": [
    "df= pd.read_csv(\"../data/netflix_titles.csv\")"
   ]
  },
  {
   "cell_type": "code",
   "execution_count": 29,
   "id": "d4ece3ff",
   "metadata": {},
   "outputs": [],
   "source": [
    "df = df[['title', 'type', 'listed_in', 'description']].dropna()\n",
    "#keeping only the columns we need"
   ]
  },
  {
   "cell_type": "code",
   "execution_count": 30,
   "id": "cea4b5c6",
   "metadata": {},
   "outputs": [],
   "source": [
    "df['combined_features'] = df['listed_in'] + ' ' + df['description']\n",
    "#combining the columns we need to create a new column"
   ]
  },
  {
   "cell_type": "code",
   "execution_count": 31,
   "id": "94f88244",
   "metadata": {},
   "outputs": [
    {
     "data": {
      "text/html": [
       "<div>\n",
       "<style scoped>\n",
       "    .dataframe tbody tr th:only-of-type {\n",
       "        vertical-align: middle;\n",
       "    }\n",
       "\n",
       "    .dataframe tbody tr th {\n",
       "        vertical-align: top;\n",
       "    }\n",
       "\n",
       "    .dataframe thead th {\n",
       "        text-align: right;\n",
       "    }\n",
       "</style>\n",
       "<table border=\"1\" class=\"dataframe\">\n",
       "  <thead>\n",
       "    <tr style=\"text-align: right;\">\n",
       "      <th></th>\n",
       "      <th>title</th>\n",
       "      <th>type</th>\n",
       "      <th>listed_in</th>\n",
       "      <th>description</th>\n",
       "      <th>combined_features</th>\n",
       "    </tr>\n",
       "  </thead>\n",
       "  <tbody>\n",
       "    <tr>\n",
       "      <th>0</th>\n",
       "      <td>Dick Johnson Is Dead</td>\n",
       "      <td>Movie</td>\n",
       "      <td>Documentaries</td>\n",
       "      <td>As her father nears the end of his life, filmm...</td>\n",
       "      <td>Documentaries As her father nears the end of h...</td>\n",
       "    </tr>\n",
       "    <tr>\n",
       "      <th>1</th>\n",
       "      <td>Blood &amp; Water</td>\n",
       "      <td>TV Show</td>\n",
       "      <td>International TV Shows, TV Dramas, TV Mysteries</td>\n",
       "      <td>After crossing paths at a party, a Cape Town t...</td>\n",
       "      <td>International TV Shows, TV Dramas, TV Mysterie...</td>\n",
       "    </tr>\n",
       "    <tr>\n",
       "      <th>2</th>\n",
       "      <td>Ganglands</td>\n",
       "      <td>TV Show</td>\n",
       "      <td>Crime TV Shows, International TV Shows, TV Act...</td>\n",
       "      <td>To protect his family from a powerful drug lor...</td>\n",
       "      <td>Crime TV Shows, International TV Shows, TV Act...</td>\n",
       "    </tr>\n",
       "    <tr>\n",
       "      <th>3</th>\n",
       "      <td>Jailbirds New Orleans</td>\n",
       "      <td>TV Show</td>\n",
       "      <td>Docuseries, Reality TV</td>\n",
       "      <td>Feuds, flirtations and toilet talk go down amo...</td>\n",
       "      <td>Docuseries, Reality TV Feuds, flirtations and ...</td>\n",
       "    </tr>\n",
       "    <tr>\n",
       "      <th>4</th>\n",
       "      <td>Kota Factory</td>\n",
       "      <td>TV Show</td>\n",
       "      <td>International TV Shows, Romantic TV Shows, TV ...</td>\n",
       "      <td>In a city of coaching centers known to train I...</td>\n",
       "      <td>International TV Shows, Romantic TV Shows, TV ...</td>\n",
       "    </tr>\n",
       "  </tbody>\n",
       "</table>\n",
       "</div>"
      ],
      "text/plain": [
       "                   title     type  \\\n",
       "0   Dick Johnson Is Dead    Movie   \n",
       "1          Blood & Water  TV Show   \n",
       "2              Ganglands  TV Show   \n",
       "3  Jailbirds New Orleans  TV Show   \n",
       "4           Kota Factory  TV Show   \n",
       "\n",
       "                                           listed_in  \\\n",
       "0                                      Documentaries   \n",
       "1    International TV Shows, TV Dramas, TV Mysteries   \n",
       "2  Crime TV Shows, International TV Shows, TV Act...   \n",
       "3                             Docuseries, Reality TV   \n",
       "4  International TV Shows, Romantic TV Shows, TV ...   \n",
       "\n",
       "                                         description  \\\n",
       "0  As her father nears the end of his life, filmm...   \n",
       "1  After crossing paths at a party, a Cape Town t...   \n",
       "2  To protect his family from a powerful drug lor...   \n",
       "3  Feuds, flirtations and toilet talk go down amo...   \n",
       "4  In a city of coaching centers known to train I...   \n",
       "\n",
       "                                   combined_features  \n",
       "0  Documentaries As her father nears the end of h...  \n",
       "1  International TV Shows, TV Dramas, TV Mysterie...  \n",
       "2  Crime TV Shows, International TV Shows, TV Act...  \n",
       "3  Docuseries, Reality TV Feuds, flirtations and ...  \n",
       "4  International TV Shows, Romantic TV Shows, TV ...  "
      ]
     },
     "execution_count": 31,
     "metadata": {},
     "output_type": "execute_result"
    }
   ],
   "source": [
    "df.head()"
   ]
  },
  {
   "cell_type": "markdown",
   "id": "dcc9c7fa",
   "metadata": {},
   "source": [
    "# filter WANT movies or Tv shows"
   ]
  },
  {
   "cell_type": "code",
   "execution_count": 32,
   "id": "afced1d9",
   "metadata": {},
   "outputs": [],
   "source": [
    "content_type = 'Movie'"
   ]
  },
  {
   "cell_type": "code",
   "execution_count": 33,
   "id": "dfc6d8db",
   "metadata": {},
   "outputs": [],
   "source": [
    "df_filtered = df[df['type']== content_type].reset_index(drop=True)"
   ]
  },
  {
   "cell_type": "code",
   "execution_count": 34,
   "id": "0e10f47c",
   "metadata": {},
   "outputs": [
    {
     "name": "stdout",
     "output_type": "stream",
     "text": [
      "Total Movies available: 6131\n"
     ]
    }
   ],
   "source": [
    "# Show how many titles are available of the selected type\n",
    "print(f\"Total {content_type}s available: {len(df_filtered)}\")\n"
   ]
  },
  {
   "cell_type": "code",
   "execution_count": 35,
   "id": "93bad05f",
   "metadata": {},
   "outputs": [
    {
     "name": "stdout",
     "output_type": "stream",
     "text": [
      "Total Movies available: 6131\n",
      "Total TV Shows available: 2676\n"
     ]
    }
   ],
   "source": [
    "movie_count = len(df[df['type'] == 'Movie'])\n",
    "tv_show_count = len(df[df['type'] == 'TV Show'])\n",
    "print(f\"Total Movies available: {movie_count}\")\n",
    "print(f\"Total TV Shows available: {tv_show_count}\")"
   ]
  },
  {
   "cell_type": "code",
   "execution_count": 36,
   "id": "da9202fc",
   "metadata": {},
   "outputs": [],
   "source": [
    "df_filtered['combined_features'] = df_filtered['listed_in'] + ' ' + df_filtered['description']"
   ]
  },
  {
   "cell_type": "code",
   "execution_count": 37,
   "id": "3920fa32",
   "metadata": {},
   "outputs": [],
   "source": [
    "from sklearn.feature_extraction.text import TfidfVectorizer\n",
    "# Tfidf = term frequency-inverse document frequency"
   ]
  },
  {
   "cell_type": "code",
   "execution_count": 38,
   "id": "86f64a73",
   "metadata": {},
   "outputs": [],
   "source": [
    "# Create TF-IDF vectorizer ignoring English stop word\n",
    "tfidf = TfidfVectorizer(stop_words='english')"
   ]
  },
  {
   "cell_type": "code",
   "execution_count": 39,
   "id": "bdbf4d16",
   "metadata": {},
   "outputs": [],
   "source": [
    "# Fit and transform the combined features into TF-IDF matrix\n",
    "tfidf_matrix = tfidf.fit_transform(df_filtered['combined_features'])"
   ]
  },
  {
   "cell_type": "markdown",
   "id": "5bea8c25",
   "metadata": {},
   "source": [
    "fit means: learn all the words and their patterns.\n",
    "\n",
    "transform means: convert the actual text to a matrix of numbers (one row per title)"
   ]
  },
  {
   "cell_type": "markdown",
   "id": "18aa4e85",
   "metadata": {},
   "source": [
    "now compute the cosine similer matrix\n"
   ]
  },
  {
   "cell_type": "code",
   "execution_count": 40,
   "id": "71f61ced",
   "metadata": {},
   "outputs": [],
   "source": [
    "\n",
    "from sklearn.metrics.pairwise import cosine_similarity"
   ]
  },
  {
   "cell_type": "code",
   "execution_count": 41,
   "metadata": {},
   "outputs": [],
   "source": [
    "cosine_sim = cosine_similarity(tfidf_matrix, tfidf_matrix)\n",
    "# Get the index of the movie that matches the title"
   ]
  },
  {
   "cell_type": "markdown",
   "id": "91258d56",
   "metadata": {},
   "source": [
    "Recommendation function"
   ]
  },
  {
   "cell_type": "code",
   "execution_count": 43,
   "id": "04543f63",
   "metadata": {},
   "outputs": [],
   "source": [
    "def get_recommendations(title, cosine_sim=cosine_sim, df=df_filtered):\n",
    "    \"\"\"\n",
    "    Return top 10 similar titles for a given title.\n",
    "    \"\"\"\n",
    "    df_loc = df.reset_index(drop=True)\n",
    "    title_to_index = pd.Series(df_loc.index, index=df_loc['title'])\n",
    "\n",
    "    if title not in title_to_index:\n",
    "        print(f\"Title '{title}' not found. Please check spelling and try again.\")\n",
    "        return []\n",
    "\n",
    "    idx = title_to_index[title]\n",
    "    sim_scores = list(enumerate(cosine_sim[idx]))\n",
    "    sim_scores = sorted(sim_scores, key=lambda x: x[1], reverse=True)[1:11]\n",
    "    indices = [i[0] for i in sim_scores]\n",
    "\n",
    "    return df_loc['title'].iloc[indices].tolist()\n"
   ]
  },
  {
   "cell_type": "code",
   "execution_count": 44,
   "id": "841496d4",
   "metadata": {},
   "outputs": [],
   "source": [
    "def get_recommendations_detailed(title, cosine_sim=cosine_sim, df=df_filtered):\n",
    "    \"\"\"\n",
    "    Return a DataFrame with detailed info (title, type, genres, description) for top 10 similar titles.\n",
    "    \"\"\"\n",
    "    df_loc = df.reset_index(drop=True)\n",
    "    title_to_index = pd.Series(df_loc.index, index=df_loc['title'])\n",
    "\n",
    "    if title not in title_to_index:\n",
    "        print(f\"Title '{title}' not found. Please check spelling and try again.\")\n",
    "        return pd.DataFrame()\n",
    "\n",
    "    idx = title_to_index[title]\n",
    "    sim_scores = list(enumerate(cosine_sim[idx]))\n",
    "    sim_scores = sorted(sim_scores, key=lambda x: x[1], reverse=True)[1:11]\n",
    "    indices = [i[0] for i in sim_scores]\n",
    "\n",
    "    return df_loc.loc[indices, ['title', 'type', 'listed_in', 'description']]"
   ]
  },
  {
   "cell_type": "code",
   "execution_count": 45,
   "id": "2a02e6a4",
   "metadata": {},
   "outputs": [
    {
     "name": "stdout",
     "output_type": "stream",
     "text": [
      "\n",
      "Total TV Shows available: 2676\n",
      "Here are some sample titles you can try:\n",
      "['Deadly Sins', 'Derry Girls', 'The Business of Drugs', 'Mighty Morphin Power Rangers', 'Together', 'B: The Beginning', 'SHAMAN KING', 'Rhyme Time Town Singalongs', 'Motown Magic', 'Miraculous: Tales of Ladybug & Cat Noir']\n",
      "\n",
      "🎯 You selected: Kota Factory\n",
      "\n",
      "🎥 Recommended titles:\n",
      "\n",
      "🎬 Title       : Cheese in the Trap\n",
      "📂 Genre       : International TV Shows, Korean TV Shows, Romantic TV Shows\n",
      "📝 Description : In this adaptation of a popular webtoon, a poor student trying to navigate college life gains the attention of a wealthy upperclassman with a dark sid...\n",
      "\n",
      "🎬 Title       : Racket Boys\n",
      "📂 Genre       : International TV Shows, TV Comedies, TV Dramas\n",
      "📝 Description : A city kid is brought to the countryside by his father's new coaching gig: reviving a ragtag middle school badminton team on the brink of extinction....\n",
      "\n",
      "🎬 Title       : The Creative Indians\n",
      "📂 Genre       : Docuseries, International TV Shows\n",
      "📝 Description : From chefs and comedians to filmmakers and fashion designers, India’s most notable imaginative minds share their artistic journeys....\n",
      "\n",
      "🎬 Title       : Titipo Titipo\n",
      "📂 Genre       : Kids' TV, Korean TV Shows\n",
      "📝 Description : Titipo the train is out to prove that he's got what it takes to help the folks of Train Village ride the rails safely and reliably....\n",
      "\n",
      "🎬 Title       : The Politician\n",
      "📂 Genre       : TV Comedies, TV Dramas, Teen TV Shows\n",
      "📝 Description : Rich kid Payton has always known he's going to be president. But first he has to navigate the most treacherous political landscape of all: high school...\n",
      "\n",
      "🎬 Title       : Single Ladies Senior\n",
      "📂 Genre       : International TV Shows, Romantic TV Shows, TV Dramas\n",
      "📝 Description : Four best friends and spirited career women navigate the treacherous world of romance – even as it stands in the way of work and friendship....\n",
      "\n",
      "🎬 Title       : Crazy, Lovely, Cool\n",
      "📂 Genre       : International TV Shows, TV Dramas\n",
      "📝 Description : For a group of charismatic undergraduates, the jolting revelations from a campus blog turn surviving university life into a serious matter....\n",
      "\n",
      "🎬 Title       : O-Negative, Love Can’t Be Designed\n",
      "📂 Genre       : International TV Shows, Romantic TV Shows, TV Dramas\n",
      "📝 Description : Five schoolmates who share a blood type navigate the vagaries of friendship, love and university life....\n",
      "\n",
      "🎬 Title       : The Great Train Robbery\n",
      "📂 Genre       : British TV Shows, Crime TV Shows, International TV Shows\n",
      "📝 Description : This two-part tale delivers the true story of the Great Train Robbery of 1963, the biggest one in England's history....\n",
      "\n",
      "🎬 Title       : Feels Like Ishq\n",
      "📂 Genre       : International TV Shows, Romantic TV Shows, TV Comedies\n",
      "📝 Description : Short films follow young adults as they navigate the gamut of emotions that come with finding romantic connection in unexpected places....\n",
      "\n"
     ]
    },
    {
     "ename": "KeyboardInterrupt",
     "evalue": "Interrupted by user",
     "output_type": "error",
     "traceback": [
      "\u001b[1;31m---------------------------------------------------------------------------\u001b[0m",
      "\u001b[1;31mKeyboardInterrupt\u001b[0m                         Traceback (most recent call last)",
      "Cell \u001b[1;32mIn[45], line 3\u001b[0m\n\u001b[0;32m      1\u001b[0m \u001b[38;5;28;01mif\u001b[39;00m \u001b[38;5;18m__name__\u001b[39m \u001b[38;5;241m==\u001b[39m \u001b[38;5;124m\"\u001b[39m\u001b[38;5;124m__main__\u001b[39m\u001b[38;5;124m\"\u001b[39m:\n\u001b[0;32m      2\u001b[0m     \u001b[38;5;28;01mwhile\u001b[39;00m \u001b[38;5;28;01mTrue\u001b[39;00m:\n\u001b[1;32m----> 3\u001b[0m         content_type \u001b[38;5;241m=\u001b[39m \u001b[38;5;28minput\u001b[39m(\u001b[38;5;124m\"\u001b[39m\u001b[38;5;124mEnter content type to get recommendations (Movie/TV Show) or \u001b[39m\u001b[38;5;124m'\u001b[39m\u001b[38;5;124mexit\u001b[39m\u001b[38;5;124m'\u001b[39m\u001b[38;5;124m to quit: \u001b[39m\u001b[38;5;124m\"\u001b[39m)\u001b[38;5;241m.\u001b[39mstrip()\n\u001b[0;32m      4\u001b[0m         \u001b[38;5;28;01mif\u001b[39;00m content_type\u001b[38;5;241m.\u001b[39mlower() \u001b[38;5;241m==\u001b[39m \u001b[38;5;124m'\u001b[39m\u001b[38;5;124mexit\u001b[39m\u001b[38;5;124m'\u001b[39m:\n\u001b[0;32m      5\u001b[0m             \u001b[38;5;28mprint\u001b[39m(\u001b[38;5;124m\"\u001b[39m\u001b[38;5;124mGoodbye!\u001b[39m\u001b[38;5;124m\"\u001b[39m)\n",
      "File \u001b[1;32mc:\\Users\\sumit\\anaconda3\\Lib\\site-packages\\ipykernel\\kernelbase.py:1262\u001b[0m, in \u001b[0;36mKernel.raw_input\u001b[1;34m(self, prompt)\u001b[0m\n\u001b[0;32m   1260\u001b[0m     msg \u001b[38;5;241m=\u001b[39m \u001b[38;5;124m\"\u001b[39m\u001b[38;5;124mraw_input was called, but this frontend does not support input requests.\u001b[39m\u001b[38;5;124m\"\u001b[39m\n\u001b[0;32m   1261\u001b[0m     \u001b[38;5;28;01mraise\u001b[39;00m StdinNotImplementedError(msg)\n\u001b[1;32m-> 1262\u001b[0m \u001b[38;5;28;01mreturn\u001b[39;00m \u001b[38;5;28mself\u001b[39m\u001b[38;5;241m.\u001b[39m_input_request(\n\u001b[0;32m   1263\u001b[0m     \u001b[38;5;28mstr\u001b[39m(prompt),\n\u001b[0;32m   1264\u001b[0m     \u001b[38;5;28mself\u001b[39m\u001b[38;5;241m.\u001b[39m_parent_ident[\u001b[38;5;124m\"\u001b[39m\u001b[38;5;124mshell\u001b[39m\u001b[38;5;124m\"\u001b[39m],\n\u001b[0;32m   1265\u001b[0m     \u001b[38;5;28mself\u001b[39m\u001b[38;5;241m.\u001b[39mget_parent(\u001b[38;5;124m\"\u001b[39m\u001b[38;5;124mshell\u001b[39m\u001b[38;5;124m\"\u001b[39m),\n\u001b[0;32m   1266\u001b[0m     password\u001b[38;5;241m=\u001b[39m\u001b[38;5;28;01mFalse\u001b[39;00m,\n\u001b[0;32m   1267\u001b[0m )\n",
      "File \u001b[1;32mc:\\Users\\sumit\\anaconda3\\Lib\\site-packages\\ipykernel\\kernelbase.py:1305\u001b[0m, in \u001b[0;36mKernel._input_request\u001b[1;34m(self, prompt, ident, parent, password)\u001b[0m\n\u001b[0;32m   1302\u001b[0m \u001b[38;5;28;01mexcept\u001b[39;00m \u001b[38;5;167;01mKeyboardInterrupt\u001b[39;00m:\n\u001b[0;32m   1303\u001b[0m     \u001b[38;5;66;03m# re-raise KeyboardInterrupt, to truncate traceback\u001b[39;00m\n\u001b[0;32m   1304\u001b[0m     msg \u001b[38;5;241m=\u001b[39m \u001b[38;5;124m\"\u001b[39m\u001b[38;5;124mInterrupted by user\u001b[39m\u001b[38;5;124m\"\u001b[39m\n\u001b[1;32m-> 1305\u001b[0m     \u001b[38;5;28;01mraise\u001b[39;00m \u001b[38;5;167;01mKeyboardInterrupt\u001b[39;00m(msg) \u001b[38;5;28;01mfrom\u001b[39;00m \u001b[38;5;28;01mNone\u001b[39;00m\n\u001b[0;32m   1306\u001b[0m \u001b[38;5;28;01mexcept\u001b[39;00m \u001b[38;5;167;01mException\u001b[39;00m:\n\u001b[0;32m   1307\u001b[0m     \u001b[38;5;28mself\u001b[39m\u001b[38;5;241m.\u001b[39mlog\u001b[38;5;241m.\u001b[39mwarning(\u001b[38;5;124m\"\u001b[39m\u001b[38;5;124mInvalid Message:\u001b[39m\u001b[38;5;124m\"\u001b[39m, exc_info\u001b[38;5;241m=\u001b[39m\u001b[38;5;28;01mTrue\u001b[39;00m)\n",
      "\u001b[1;31mKeyboardInterrupt\u001b[0m: Interrupted by user"
     ]
    }
   ],
   "source": [
    "if __name__ == \"__main__\":\n",
    "    while True:\n",
    "        content_type = input(\"Enter content type to get recommendations (Movie/TV Show) or 'exit' to quit: \").strip()\n",
    "        if content_type.lower() == 'exit':\n",
    "            print(\"Goodbye!\")\n",
    "            break\n",
    "        if content_type not in ['Movie', 'TV Show']:\n",
    "            print(\"Please enter either 'Movie' or 'TV Show'.\")\n",
    "            continue\n",
    "        \n",
    "        # Filter dataframe based on user choice\n",
    "        df_filtered = df[df['type'] == content_type].reset_index(drop=True)\n",
    "        df_filtered['combined_features'] = df_filtered['listed_in'] + ' ' + df_filtered['description']\n",
    "        \n",
    "        # Vectorize and compute cosine similarity\n",
    "        tfidf = TfidfVectorizer(stop_words='english')\n",
    "        tfidf_matrix = tfidf.fit_transform(df_filtered['combined_features'])\n",
    "        cosine_sim = cosine_similarity(tfidf_matrix, tfidf_matrix)\n",
    "        \n",
    "        print(f\"\\nTotal {content_type}s available: {len(df_filtered)}\")\n",
    "        print(\"Here are some sample titles you can try:\")\n",
    "        print(df_filtered['title'].sample(10).tolist())\n",
    "        \n",
    "        # Ask for a title\n",
    "        title_to_test = input(f\"\\nEnter the exact {content_type} title for recommendations (or 'back' to choose content type): \").strip()\n",
    "        if title_to_test.lower() == 'back':\n",
    "            continue\n",
    "        \n",
    "        recommendations = get_recommendations_detailed(title_to_test, cosine_sim=cosine_sim, df=df_filtered)\n",
    "\n",
    "        if not recommendations.empty:\n",
    "            print(f\"\\n🎯 You selected: {title_to_test}\\n\")\n",
    "            print(\"🎥 Recommended titles:\\n\")\n",
    "            for i, row in recommendations.iterrows():\n",
    "                print(f\"🎬 Title       : {row['title']}\")\n",
    "                print(f\"📂 Genre       : {row['listed_in']}\")\n",
    "                print(f\"📝 Description : {row['description'][:150]}...\\n\")\n",
    "        else:\n",
    "            print(\"❌ No recommendations found. Try another title.\\n\")\n"
   ]
  }
 ],
 "metadata": {
  "kernelspec": {
   "display_name": "base",
   "language": "python",
   "name": "python3"
  },
  "language_info": {
   "codemirror_mode": {
    "name": "ipython",
    "version": 3
   },
   "file_extension": ".py",
   "mimetype": "text/x-python",
   "name": "python",
   "nbconvert_exporter": "python",
   "pygments_lexer": "ipython3",
   "version": "3.12.4"
  }
 },
 "nbformat": 4,
 "nbformat_minor": 5
}
